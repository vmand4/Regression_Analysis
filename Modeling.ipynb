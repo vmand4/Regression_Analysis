{
 "cells": [
  {
   "cell_type": "markdown",
   "metadata": {},
   "source": [
    "# Modeling"
   ]
  },
  {
   "cell_type": "markdown",
   "metadata": {},
   "source": [
    "# Varun Mandalapu"
   ]
  },
  {
   "cell_type": "markdown",
   "metadata": {},
   "source": [
    "Please go through \"Data Exploration\" notebook prior to this notebook as I implemented some insights from that."
   ]
  },
  {
   "cell_type": "markdown",
   "metadata": {},
   "source": [
    "Import required packages and modules for modeling, Needed libraries are Scikit-Learn, Pandas, Numpy, Seaborn & TQDM"
   ]
  },
  {
   "cell_type": "code",
   "execution_count": 1,
   "metadata": {},
   "outputs": [],
   "source": [
    "import warnings\n",
    "warnings.filterwarnings('ignore')"
   ]
  },
  {
   "cell_type": "code",
   "execution_count": 2,
   "metadata": {},
   "outputs": [],
   "source": [
    "import pandas as pd, numpy as np, math\n",
    "import seaborn as sns\n",
    "import matplotlib as plt\n",
    "from sklearn import linear_model, ensemble, tree\n",
    "from sklearn.model_selection import GridSearchCV,KFold, train_test_split, cross_validate\n",
    "from sklearn.feature_selection import SelectFromModel\n",
    "from sklearn.pipeline import Pipeline\n",
    "from sklearn.preprocessing import StandardScaler\n",
    "from sklearn.metrics import r2_score, mean_squared_error, mean_absolute_error\n",
    "from sklearn.compose import ColumnTransformer\n",
    "from tqdm import tqdm_notebook as tqdm"
   ]
  },
  {
   "cell_type": "markdown",
   "metadata": {},
   "source": [
    "Import data for modeling"
   ]
  },
  {
   "cell_type": "code",
   "execution_count": 3,
   "metadata": {},
   "outputs": [
    {
     "data": {
      "text/html": [
       "<div>\n",
       "<style scoped>\n",
       "    .dataframe tbody tr th:only-of-type {\n",
       "        vertical-align: middle;\n",
       "    }\n",
       "\n",
       "    .dataframe tbody tr th {\n",
       "        vertical-align: top;\n",
       "    }\n",
       "\n",
       "    .dataframe thead th {\n",
       "        text-align: right;\n",
       "    }\n",
       "</style>\n",
       "<table border=\"1\" class=\"dataframe\">\n",
       "  <thead>\n",
       "    <tr style=\"text-align: right;\">\n",
       "      <th></th>\n",
       "      <th>y</th>\n",
       "      <th>var_1</th>\n",
       "      <th>var_2</th>\n",
       "      <th>var_3</th>\n",
       "      <th>var_4</th>\n",
       "      <th>var_5</th>\n",
       "      <th>var_6</th>\n",
       "      <th>var_7</th>\n",
       "      <th>var_8</th>\n",
       "      <th>var_9</th>\n",
       "      <th>var_10</th>\n",
       "    </tr>\n",
       "  </thead>\n",
       "  <tbody>\n",
       "    <tr>\n",
       "      <th>0</th>\n",
       "      <td>58.891377</td>\n",
       "      <td>5285.076955</td>\n",
       "      <td>8102.610429</td>\n",
       "      <td>-142802.4627</td>\n",
       "      <td>0.731818</td>\n",
       "      <td>61045.686450</td>\n",
       "      <td>183502.7911</td>\n",
       "      <td>2418498.392</td>\n",
       "      <td>27880.60083</td>\n",
       "      <td>360626.7592</td>\n",
       "      <td>4</td>\n",
       "    </tr>\n",
       "    <tr>\n",
       "      <th>1</th>\n",
       "      <td>57.641838</td>\n",
       "      <td>2094.137183</td>\n",
       "      <td>7432.119245</td>\n",
       "      <td>-147434.0657</td>\n",
       "      <td>2.527586</td>\n",
       "      <td>48485.220290</td>\n",
       "      <td>232809.7287</td>\n",
       "      <td>1779351.332</td>\n",
       "      <td>32153.75776</td>\n",
       "      <td>382670.3624</td>\n",
       "      <td>5</td>\n",
       "    </tr>\n",
       "    <tr>\n",
       "      <th>2</th>\n",
       "      <td>53.746536</td>\n",
       "      <td>5830.245294</td>\n",
       "      <td>6613.941822</td>\n",
       "      <td>-129496.5961</td>\n",
       "      <td>2.625691</td>\n",
       "      <td>36301.747910</td>\n",
       "      <td>214837.0432</td>\n",
       "      <td>2072100.771</td>\n",
       "      <td>30642.70182</td>\n",
       "      <td>370120.6062</td>\n",
       "      <td>2</td>\n",
       "    </tr>\n",
       "    <tr>\n",
       "      <th>3</th>\n",
       "      <td>36.168986</td>\n",
       "      <td>13039.246420</td>\n",
       "      <td>5270.829420</td>\n",
       "      <td>-439972.8126</td>\n",
       "      <td>0.844833</td>\n",
       "      <td>-5909.877785</td>\n",
       "      <td>173613.1204</td>\n",
       "      <td>1899841.158</td>\n",
       "      <td>41311.52728</td>\n",
       "      <td>329891.8986</td>\n",
       "      <td>4</td>\n",
       "    </tr>\n",
       "    <tr>\n",
       "      <th>4</th>\n",
       "      <td>32.669772</td>\n",
       "      <td>4611.755026</td>\n",
       "      <td>3456.822275</td>\n",
       "      <td>-138594.7123</td>\n",
       "      <td>4.058533</td>\n",
       "      <td>37602.705370</td>\n",
       "      <td>228498.4096</td>\n",
       "      <td>1925463.972</td>\n",
       "      <td>27522.27266</td>\n",
       "      <td>473752.7977</td>\n",
       "      <td>3</td>\n",
       "    </tr>\n",
       "  </tbody>\n",
       "</table>\n",
       "</div>"
      ],
      "text/plain": [
       "           y         var_1        var_2        var_3     var_4         var_5  \\\n",
       "0  58.891377   5285.076955  8102.610429 -142802.4627  0.731818  61045.686450   \n",
       "1  57.641838   2094.137183  7432.119245 -147434.0657  2.527586  48485.220290   \n",
       "2  53.746536   5830.245294  6613.941822 -129496.5961  2.625691  36301.747910   \n",
       "3  36.168986  13039.246420  5270.829420 -439972.8126  0.844833  -5909.877785   \n",
       "4  32.669772   4611.755026  3456.822275 -138594.7123  4.058533  37602.705370   \n",
       "\n",
       "         var_6        var_7        var_8        var_9  var_10  \n",
       "0  183502.7911  2418498.392  27880.60083  360626.7592       4  \n",
       "1  232809.7287  1779351.332  32153.75776  382670.3624       5  \n",
       "2  214837.0432  2072100.771  30642.70182  370120.6062       2  \n",
       "3  173613.1204  1899841.158  41311.52728  329891.8986       4  \n",
       "4  228498.4096  1925463.972  27522.27266  473752.7977       3  "
      ]
     },
     "execution_count": 3,
     "metadata": {},
     "output_type": "execute_result"
    }
   ],
   "source": [
    "Model_Data = pd.read_csv('Modeling Test Data.csv')\n",
    "Model_Data.head()"
   ]
  },
  {
   "cell_type": "markdown",
   "metadata": {},
   "source": [
    "Dummy Code discrete variable var_10 as it is not evident that it is an ordinal column."
   ]
  },
  {
   "cell_type": "code",
   "execution_count": 4,
   "metadata": {},
   "outputs": [
    {
     "data": {
      "text/html": [
       "<div>\n",
       "<style scoped>\n",
       "    .dataframe tbody tr th:only-of-type {\n",
       "        vertical-align: middle;\n",
       "    }\n",
       "\n",
       "    .dataframe tbody tr th {\n",
       "        vertical-align: top;\n",
       "    }\n",
       "\n",
       "    .dataframe thead th {\n",
       "        text-align: right;\n",
       "    }\n",
       "</style>\n",
       "<table border=\"1\" class=\"dataframe\">\n",
       "  <thead>\n",
       "    <tr style=\"text-align: right;\">\n",
       "      <th></th>\n",
       "      <th>y</th>\n",
       "      <th>var_1</th>\n",
       "      <th>var_2</th>\n",
       "      <th>var_3</th>\n",
       "      <th>var_4</th>\n",
       "      <th>var_5</th>\n",
       "      <th>var_6</th>\n",
       "      <th>var_7</th>\n",
       "      <th>var_8</th>\n",
       "      <th>var_9</th>\n",
       "      <th>var_10_1</th>\n",
       "      <th>var_10_2</th>\n",
       "      <th>var_10_3</th>\n",
       "      <th>var_10_4</th>\n",
       "      <th>var_10_5</th>\n",
       "    </tr>\n",
       "  </thead>\n",
       "  <tbody>\n",
       "    <tr>\n",
       "      <th>0</th>\n",
       "      <td>58.891377</td>\n",
       "      <td>5285.076955</td>\n",
       "      <td>8102.610429</td>\n",
       "      <td>-142802.4627</td>\n",
       "      <td>0.731818</td>\n",
       "      <td>61045.686450</td>\n",
       "      <td>183502.7911</td>\n",
       "      <td>2418498.392</td>\n",
       "      <td>27880.60083</td>\n",
       "      <td>360626.7592</td>\n",
       "      <td>0</td>\n",
       "      <td>0</td>\n",
       "      <td>0</td>\n",
       "      <td>1</td>\n",
       "      <td>0</td>\n",
       "    </tr>\n",
       "    <tr>\n",
       "      <th>1</th>\n",
       "      <td>57.641838</td>\n",
       "      <td>2094.137183</td>\n",
       "      <td>7432.119245</td>\n",
       "      <td>-147434.0657</td>\n",
       "      <td>2.527586</td>\n",
       "      <td>48485.220290</td>\n",
       "      <td>232809.7287</td>\n",
       "      <td>1779351.332</td>\n",
       "      <td>32153.75776</td>\n",
       "      <td>382670.3624</td>\n",
       "      <td>0</td>\n",
       "      <td>0</td>\n",
       "      <td>0</td>\n",
       "      <td>0</td>\n",
       "      <td>1</td>\n",
       "    </tr>\n",
       "    <tr>\n",
       "      <th>2</th>\n",
       "      <td>53.746536</td>\n",
       "      <td>5830.245294</td>\n",
       "      <td>6613.941822</td>\n",
       "      <td>-129496.5961</td>\n",
       "      <td>2.625691</td>\n",
       "      <td>36301.747910</td>\n",
       "      <td>214837.0432</td>\n",
       "      <td>2072100.771</td>\n",
       "      <td>30642.70182</td>\n",
       "      <td>370120.6062</td>\n",
       "      <td>0</td>\n",
       "      <td>1</td>\n",
       "      <td>0</td>\n",
       "      <td>0</td>\n",
       "      <td>0</td>\n",
       "    </tr>\n",
       "    <tr>\n",
       "      <th>3</th>\n",
       "      <td>36.168986</td>\n",
       "      <td>13039.246420</td>\n",
       "      <td>5270.829420</td>\n",
       "      <td>-439972.8126</td>\n",
       "      <td>0.844833</td>\n",
       "      <td>-5909.877785</td>\n",
       "      <td>173613.1204</td>\n",
       "      <td>1899841.158</td>\n",
       "      <td>41311.52728</td>\n",
       "      <td>329891.8986</td>\n",
       "      <td>0</td>\n",
       "      <td>0</td>\n",
       "      <td>0</td>\n",
       "      <td>1</td>\n",
       "      <td>0</td>\n",
       "    </tr>\n",
       "    <tr>\n",
       "      <th>4</th>\n",
       "      <td>32.669772</td>\n",
       "      <td>4611.755026</td>\n",
       "      <td>3456.822275</td>\n",
       "      <td>-138594.7123</td>\n",
       "      <td>4.058533</td>\n",
       "      <td>37602.705370</td>\n",
       "      <td>228498.4096</td>\n",
       "      <td>1925463.972</td>\n",
       "      <td>27522.27266</td>\n",
       "      <td>473752.7977</td>\n",
       "      <td>0</td>\n",
       "      <td>0</td>\n",
       "      <td>1</td>\n",
       "      <td>0</td>\n",
       "      <td>0</td>\n",
       "    </tr>\n",
       "  </tbody>\n",
       "</table>\n",
       "</div>"
      ],
      "text/plain": [
       "           y         var_1        var_2        var_3     var_4         var_5  \\\n",
       "0  58.891377   5285.076955  8102.610429 -142802.4627  0.731818  61045.686450   \n",
       "1  57.641838   2094.137183  7432.119245 -147434.0657  2.527586  48485.220290   \n",
       "2  53.746536   5830.245294  6613.941822 -129496.5961  2.625691  36301.747910   \n",
       "3  36.168986  13039.246420  5270.829420 -439972.8126  0.844833  -5909.877785   \n",
       "4  32.669772   4611.755026  3456.822275 -138594.7123  4.058533  37602.705370   \n",
       "\n",
       "         var_6        var_7        var_8        var_9  var_10_1  var_10_2  \\\n",
       "0  183502.7911  2418498.392  27880.60083  360626.7592         0         0   \n",
       "1  232809.7287  1779351.332  32153.75776  382670.3624         0         0   \n",
       "2  214837.0432  2072100.771  30642.70182  370120.6062         0         1   \n",
       "3  173613.1204  1899841.158  41311.52728  329891.8986         0         0   \n",
       "4  228498.4096  1925463.972  27522.27266  473752.7977         0         0   \n",
       "\n",
       "   var_10_3  var_10_4  var_10_5  \n",
       "0         0         1         0  \n",
       "1         0         0         1  \n",
       "2         0         0         0  \n",
       "3         0         1         0  \n",
       "4         1         0         0  "
      ]
     },
     "execution_count": 4,
     "metadata": {},
     "output_type": "execute_result"
    }
   ],
   "source": [
    "Model_Data = pd.get_dummies(Model_Data, columns = ['var_10'],prefix = 'var_10')\n",
    "Model_Data.head()"
   ]
  },
  {
   "cell_type": "markdown",
   "metadata": {},
   "source": [
    "Split data into Train & Test"
   ]
  },
  {
   "cell_type": "code",
   "execution_count": 5,
   "metadata": {},
   "outputs": [],
   "source": [
    "# Separate Predictor variables and target variable\n",
    "Model_Data_X = Model_Data.iloc[:,1:].copy()\n",
    "Model_Data_Y = pd.DataFrame(Model_Data.iloc[:,0]).copy()\n",
    "\n",
    "#Split Data into Train Test (90:10)\n",
    "Model_Data_X_Train, Model_Data_X_Test, Model_Data_Y_Train, Model_Data_Y_Test = train_test_split(Model_Data_X,Model_Data_Y, test_size = 0.1, random_state = 20, shuffle = True)"
   ]
  },
  {
   "cell_type": "markdown",
   "metadata": {},
   "source": [
    "# Baseline Model"
   ]
  },
  {
   "cell_type": "markdown",
   "metadata": {},
   "source": [
    "In this work, I want to construct a baseline model with Linear Regression and without any feature selections or transformations."
   ]
  },
  {
   "cell_type": "code",
   "execution_count": 6,
   "metadata": {},
   "outputs": [
    {
     "name": "stdout",
     "output_type": "stream",
     "text": [
      "Baseline Model R2 =  0.797\n"
     ]
    }
   ],
   "source": [
    "LR_Baseline = linear_model.LinearRegression()\n",
    "Baseline_Model_Scores = cross_validate(LR_Baseline, Model_Data_X_Train, Model_Data_Y_Train, cv=5, scoring=('r2', 'neg_mean_squared_error','neg_mean_absolute_error'))\n",
    "print('Baseline Model R2 = ', np.mean(Baseline_Model_Scores.get('test_r2')).round(decimals = 3))\n",
    "#np.absolute(Baseline_Model_Scores.get('test_neg_mean_absolute_error'))"
   ]
  },
  {
   "cell_type": "markdown",
   "metadata": {},
   "source": [
    "# Feature Selection"
   ]
  },
  {
   "cell_type": "markdown",
   "metadata": {},
   "source": [
    "Multicollinearity Check\n",
    "\n",
    "In this step, I remove attributes that are highly collinear based on correlation map plotted for Train data. The threshold is a correlation value >0.8"
   ]
  },
  {
   "cell_type": "code",
   "execution_count": 7,
   "metadata": {},
   "outputs": [
    {
     "data": {
      "image/png": "[encoded data removed]",
      "text/plain": [
       "<Figure size 1080x720 with 2 Axes>"
      ]
     },
     "metadata": {},
     "output_type": "display_data"
    }
   ],
   "source": [
    "# Remove multicollinearity in data\n",
    "fig = plt.figure(figsize=(15, 10))\n",
    "fig.set_facecolor('white')\n",
    "sns.set(font_scale=1.2)\n",
    "Correlation_Map = sns.heatmap(Model_Data_X_Train.corr(), annot = True, cmap=\"RdYlGn\").set_title(\"Correlation Map\")"
   ]
  },
  {
   "cell_type": "markdown",
   "metadata": {},
   "source": [
    "Based on correlation map we observe that 'var_3' and 'var_5' are correlated with 0.81. In order to remove multicollinearity, I am removing 'var_5'  from the data. I selected to remove 'var_5' as 'var_3' has more correlation 0.6 with target 'y' compared to '0.4' for 'var_5' (available in exploration notebook)\n",
    "\n",
    "Generally, if the data descriptions are available, this decision to remove a column is made based on both correlation and the column representations."
   ]
  },
  {
   "cell_type": "code",
   "execution_count": 8,
   "metadata": {},
   "outputs": [
    {
     "data": {
      "text/html": [
       "<div>\n",
       "<style scoped>\n",
       "    .dataframe tbody tr th:only-of-type {\n",
       "        vertical-align: middle;\n",
       "    }\n",
       "\n",
       "    .dataframe tbody tr th {\n",
       "        vertical-align: top;\n",
       "    }\n",
       "\n",
       "    .dataframe thead th {\n",
       "        text-align: right;\n",
       "    }\n",
       "</style>\n",
       "<table border=\"1\" class=\"dataframe\">\n",
       "  <thead>\n",
       "    <tr style=\"text-align: right;\">\n",
       "      <th></th>\n",
       "      <th>var_1</th>\n",
       "      <th>var_2</th>\n",
       "      <th>var_3</th>\n",
       "      <th>var_4</th>\n",
       "      <th>var_6</th>\n",
       "      <th>var_7</th>\n",
       "      <th>var_8</th>\n",
       "      <th>var_9</th>\n",
       "      <th>var_10_1</th>\n",
       "      <th>var_10_2</th>\n",
       "      <th>var_10_3</th>\n",
       "      <th>var_10_4</th>\n",
       "      <th>var_10_5</th>\n",
       "    </tr>\n",
       "  </thead>\n",
       "  <tbody>\n",
       "    <tr>\n",
       "      <th>6706</th>\n",
       "      <td>7340.853844</td>\n",
       "      <td>4962.682153</td>\n",
       "      <td>283333.0549</td>\n",
       "      <td>0.477940</td>\n",
       "      <td>148653.37080</td>\n",
       "      <td>1.114948e+06</td>\n",
       "      <td>19320.86016</td>\n",
       "      <td>93338.21245</td>\n",
       "      <td>0</td>\n",
       "      <td>0</td>\n",
       "      <td>0</td>\n",
       "      <td>0</td>\n",
       "      <td>1</td>\n",
       "    </tr>\n",
       "    <tr>\n",
       "      <th>3527</th>\n",
       "      <td>5997.192374</td>\n",
       "      <td>8612.915338</td>\n",
       "      <td>286818.1064</td>\n",
       "      <td>1.207340</td>\n",
       "      <td>178878.60640</td>\n",
       "      <td>1.675598e+06</td>\n",
       "      <td>13974.95185</td>\n",
       "      <td>75495.87872</td>\n",
       "      <td>0</td>\n",
       "      <td>0</td>\n",
       "      <td>0</td>\n",
       "      <td>0</td>\n",
       "      <td>1</td>\n",
       "    </tr>\n",
       "    <tr>\n",
       "      <th>1485</th>\n",
       "      <td>10952.439820</td>\n",
       "      <td>7793.290207</td>\n",
       "      <td>177182.5503</td>\n",
       "      <td>0.895527</td>\n",
       "      <td>159668.90880</td>\n",
       "      <td>3.115767e+06</td>\n",
       "      <td>22472.88792</td>\n",
       "      <td>128969.42060</td>\n",
       "      <td>0</td>\n",
       "      <td>1</td>\n",
       "      <td>0</td>\n",
       "      <td>0</td>\n",
       "      <td>0</td>\n",
       "    </tr>\n",
       "    <tr>\n",
       "      <th>974</th>\n",
       "      <td>7164.288177</td>\n",
       "      <td>7248.496947</td>\n",
       "      <td>209739.9293</td>\n",
       "      <td>0.824476</td>\n",
       "      <td>162912.93620</td>\n",
       "      <td>2.027060e+06</td>\n",
       "      <td>26437.35549</td>\n",
       "      <td>201248.59710</td>\n",
       "      <td>0</td>\n",
       "      <td>0</td>\n",
       "      <td>0</td>\n",
       "      <td>1</td>\n",
       "      <td>0</td>\n",
       "    </tr>\n",
       "    <tr>\n",
       "      <th>5450</th>\n",
       "      <td>11553.612690</td>\n",
       "      <td>-491.967384</td>\n",
       "      <td>-233317.7691</td>\n",
       "      <td>0.596240</td>\n",
       "      <td>-25360.93648</td>\n",
       "      <td>-8.793266e+04</td>\n",
       "      <td>16100.64161</td>\n",
       "      <td>132646.09190</td>\n",
       "      <td>1</td>\n",
       "      <td>0</td>\n",
       "      <td>0</td>\n",
       "      <td>0</td>\n",
       "      <td>0</td>\n",
       "    </tr>\n",
       "  </tbody>\n",
       "</table>\n",
       "</div>"
      ],
      "text/plain": [
       "             var_1        var_2        var_3     var_4         var_6  \\\n",
       "6706   7340.853844  4962.682153  283333.0549  0.477940  148653.37080   \n",
       "3527   5997.192374  8612.915338  286818.1064  1.207340  178878.60640   \n",
       "1485  10952.439820  7793.290207  177182.5503  0.895527  159668.90880   \n",
       "974    7164.288177  7248.496947  209739.9293  0.824476  162912.93620   \n",
       "5450  11553.612690  -491.967384 -233317.7691  0.596240  -25360.93648   \n",
       "\n",
       "             var_7        var_8         var_9  var_10_1  var_10_2  var_10_3  \\\n",
       "6706  1.114948e+06  19320.86016   93338.21245         0         0         0   \n",
       "3527  1.675598e+06  13974.95185   75495.87872         0         0         0   \n",
       "1485  3.115767e+06  22472.88792  128969.42060         0         1         0   \n",
       "974   2.027060e+06  26437.35549  201248.59710         0         0         0   \n",
       "5450 -8.793266e+04  16100.64161  132646.09190         1         0         0   \n",
       "\n",
       "      var_10_4  var_10_5  \n",
       "6706         0         1  \n",
       "3527         0         1  \n",
       "1485         0         0  \n",
       "974          1         0  \n",
       "5450         0         0  "
      ]
     },
     "execution_count": 8,
     "metadata": {},
     "output_type": "execute_result"
    }
   ],
   "source": [
    "Model_Data_X_Train.drop(['var_5'], axis = 1, inplace = True)\n",
    "Model_Data_X_Test.drop(['var_5'], axis = 1, inplace = True)\n",
    "Columns_Data_X = Model_Data_X_Train.columns\n",
    "Model_Data_X_Train.head()"
   ]
  },
  {
   "cell_type": "markdown",
   "metadata": {},
   "source": [
    "Initialize Column Transformed to scale only continuous varriables in data"
   ]
  },
  {
   "cell_type": "code",
   "execution_count": 9,
   "metadata": {},
   "outputs": [],
   "source": [
    "numerical_features = Model_Data_X_Train.dtypes == 'float'\n",
    "transformer = ColumnTransformer(transformers=[('num', StandardScaler(), numerical_features)], remainder='passthrough')"
   ]
  },
  {
   "cell_type": "markdown",
   "metadata": {},
   "source": [
    "Embedded feature selection method based on random forest."
   ]
  },
  {
   "cell_type": "code",
   "execution_count": 10,
   "metadata": {},
   "outputs": [],
   "source": [
    "# Feature Selection based on Embedded Method (Random Forest)\n",
    "\n",
    "Feature_Selection = SelectFromModel(ensemble.RandomForestRegressor(n_estimators = 100), threshold = 0.01)\n"
   ]
  },
  {
   "cell_type": "markdown",
   "metadata": {},
   "source": [
    "# Hyperparameter Search Space Initialization"
   ]
  },
  {
   "cell_type": "code",
   "execution_count": 11,
   "metadata": {},
   "outputs": [],
   "source": [
    "# Defining Hyperparameter Search Space for optimal parameters for Linear Regression\n",
    "\n",
    "LR = linear_model.LinearRegression()\n",
    "hyperparameters_LR = {\"normalize\": [True,False]}\n",
    "Grid_Search_LR = GridSearchCV(LR, param_grid = hyperparameters_LR, cv=5, verbose=0, n_jobs=-1)\n",
    "\n",
    "# Defining Hyperparameter Search Space for optimal parameters for Elastic Net\n",
    "\n",
    "EN = linear_model.ElasticNetCV()\n",
    "hyperparameters_EN = {\"l1_ratio\": [0.0001,0.001,0.1,0.3,0.5,0.7,0.9,1],\"n_alphas\" : [100, 200, 500] }\n",
    "Grid_Search_EN = GridSearchCV(EN, param_grid = hyperparameters_EN, cv=5, verbose=0, n_jobs=-1)\n",
    "\n",
    "# Defining Hyperparameter Search Space for optimal parameters for Decision Tree Regressor\n",
    "\n",
    "DT = tree.DecisionTreeRegressor()\n",
    "hyperparameters_DT = {\"criterion\": [\"mse\", \"friedman_mse\", \"mae\"], \"max_depth\": [3,10,20,40,60,80,100],\"min_impurity_decrease\": [0.001,0.01,0.1]}\n",
    "Grid_Search_DT = GridSearchCV(DT, param_grid = hyperparameters_DT, cv=5, verbose=0, n_jobs=-1)\n",
    "\n",
    "# Defining Hyperparameter Search Space for optimal parameters for Gradient Boosting Regressor\n",
    "\n",
    "GBR = ensemble.GradientBoostingRegressor()\n",
    "hyperparameters_GBR = {\"loss\": [\"ls\", \"lad\", \"huber\"] ,\"learning_rate\" : [0.0001, 0.001, 0.01, 0.1], \"n_estimators\" :[10,100, 500,1000] }\n",
    "Grid_Search_GBR = GridSearchCV(GBR, param_grid = hyperparameters_GBR, cv=5, verbose=0, n_jobs=-1)\n",
    "\n",
    "# Defining Hyperparameter Search Space for optimal parameters for Random Forest Regressor\n",
    "\n",
    "RF = ensemble.RandomForestRegressor()\n",
    "hyperparameters_RF = {\"n_estimators\": [10, 100, 500] ,\"max_features\" : [\"auto\",\"sqrt\",\"log2\"], \"n_jobs\": [-1]}\n",
    "Grid_Search_RF = GridSearchCV(RF, param_grid = hyperparameters_RF, cv=5, verbose=0, n_jobs=-1)\n"
   ]
  },
  {
   "cell_type": "markdown",
   "metadata": {},
   "source": [
    "# Model Pipelines Initialization"
   ]
  },
  {
   "cell_type": "code",
   "execution_count": 12,
   "metadata": {},
   "outputs": [],
   "source": [
    "# Creating Pipelines for each model.\n",
    "Pipelines = []\n",
    "LR_Pipeline = Pipeline([('Scale_Float', transformer),('LR_feature_selection', Feature_Selection),('LR_Regression',Grid_Search_LR)])\n",
    "Pipelines.append(('Linear_Reg',LR_Pipeline))\n",
    "EN_Pipeline = Pipeline([('Scale_Float', transformer),('EN_feature_selection', Feature_Selection),('EN_Regression',Grid_Search_EN)])\n",
    "Pipelines.append(('Elastic_Net',EN_Pipeline))\n",
    "DT_Pipeline = Pipeline([('Scale_Float', transformer),('DT_feature_selection', Feature_Selection),('DT_Regression',Grid_Search_DT)])\n",
    "Pipelines.append(('Descision_Tree',DT_Pipeline))\n",
    "GBR_Pipeline = Pipeline([('Scale_Float', transformer),('GBR_feature_selection', Feature_Selection),('GBR_Regression',Grid_Search_GBR)])\n",
    "Pipelines.append(('Gradient_Boost_Reg', GBR_Pipeline))\n",
    "RF_Pipeline = Pipeline([('Scale_Float', transformer),('RF_feature_selection', Feature_Selection),('RF_Regression',Grid_Search_RF)])\n",
    "Pipelines.append(('Random_Forest',RF_Pipeline))\n"
   ]
  },
  {
   "cell_type": "markdown",
   "metadata": {},
   "source": [
    "# Cross Validation on 90% data"
   ]
  },
  {
   "cell_type": "markdown",
   "metadata": {},
   "source": [
    "Models are cross validated on 90% data to select the best algorithm for current dataset based on the performance metrics"
   ]
  },
  {
   "cell_type": "code",
   "execution_count": 13,
   "metadata": {},
   "outputs": [
    {
     "data": {
      "application/vnd.jupyter.widget-view+json": {
       "model_id": "df57776310e44f5487e1159f912390b3",
       "version_major": 2,
       "version_minor": 0
      },
      "text/plain": [
       "HBox(children=(HTML(value='Models Progress'), FloatProgress(value=0.0, max=5.0), HTML(value='')))"
      ]
     },
     "metadata": {},
     "output_type": "display_data"
    },
    {
     "name": "stdout",
     "output_type": "stream",
     "text": [
      "\n"
     ]
    }
   ],
   "source": [
    "warnings.filterwarnings('ignore')\n",
    "# Setting the number of splits needed in k fold\n",
    "K_fold = KFold(n_splits=5, random_state = 10, shuffle = True)\n",
    "\n",
    "# Initializing empty lists to track model performances\n",
    "Cross_Validation_Results_R2 = []; Cross_Validation_Results_RMSE = []; Model_Name = []; R2_Output = []\n",
    "RMSE_Output = [];MAE_Output = []; R2_Uncertainty = []; MAE_Uncertainty = []\n",
    "\n",
    "#Looping all models that need to be evaluated.\n",
    "for model, pipeline in tqdm(Pipelines, desc = \"Models Progress\"):\n",
    "    \n",
    "    #Initialize empty lists for storing each fold performance of cross validation\n",
    "    Cross_Validation_Results_R2 = []\n",
    "    Cross_Validation_Results_RMSE = []\n",
    "    Cross_Validation_Results_MAE = []\n",
    "    \n",
    "    # Cross Validation\n",
    "    for train, test in K_fold.split(Model_Data_X_Train,Model_Data_Y_Train):\n",
    "        # Fold Count\n",
    "        Trained_Model = ()\n",
    "        # Data and labels extraction for Training and testing in current fold of Cross Validation\n",
    "        train_data = Model_Data_X_Train[Model_Data_X_Train.index.isin(train)]\n",
    "        train_label = Model_Data_Y_Train[Model_Data_Y_Train.index.isin(train)]\n",
    "        test_data = Model_Data_X_Train[Model_Data_X_Train.index.isin(test)]\n",
    "        test_label = Model_Data_Y_Train[Model_Data_Y_Train.index.isin(test)]\n",
    "        Trained_Model = pipeline.fit(train_data,train_label)\n",
    "        Test_predictions = Trained_Model.predict(test_data)\n",
    "        \n",
    "        # Performance metrics evaluated in this study\n",
    "        R2_Score = r2_score(test_label, Test_predictions, sample_weight=None, multioutput='uniform_average')\n",
    "        RMSE_Score = math.sqrt(mean_squared_error(test_label, Test_predictions, sample_weight=None, multioutput='uniform_average'))\n",
    "        MAE_Score = mean_absolute_error(test_label, Test_predictions,)\n",
    "        \n",
    "        # Appending individual fold performance score to empty list\n",
    "        Cross_Validation_Results_R2.append(R2_Score)\n",
    "        Cross_Validation_Results_RMSE.append(RMSE_Score)\n",
    "        Cross_Validation_Results_MAE.append(MAE_Score)\n",
    "        \n",
    "\n",
    "    \n",
    "    # Calculate the final cross validation performance by averaging each fold performance and append it to an empty list for final comparison of models.       \n",
    "    R2_Output.append(np.mean(Cross_Validation_Results_R2).round(3))\n",
    "    RMSE_Output.append(np.mean(Cross_Validation_Results_RMSE).round(3))\n",
    "    MAE_Output.append(np.mean(Cross_Validation_Results_MAE).round(3))\n",
    "    R2_Uncertainty.append(np.std(Cross_Validation_Results_R2).round(3))\n",
    "    MAE_Uncertainty.append(np.std(Cross_Validation_Results_MAE).round(3))\n",
    "    Model_Name.append(model)"
   ]
  },
  {
   "cell_type": "code",
   "execution_count": 14,
   "metadata": {},
   "outputs": [
    {
     "data": {
      "text/html": [
       "<div>\n",
       "<style scoped>\n",
       "    .dataframe tbody tr th:only-of-type {\n",
       "        vertical-align: middle;\n",
       "    }\n",
       "\n",
       "    .dataframe tbody tr th {\n",
       "        vertical-align: top;\n",
       "    }\n",
       "\n",
       "    .dataframe thead th {\n",
       "        text-align: right;\n",
       "    }\n",
       "</style>\n",
       "<table border=\"1\" class=\"dataframe\">\n",
       "  <thead>\n",
       "    <tr style=\"text-align: right;\">\n",
       "      <th></th>\n",
       "      <th>Model_Name</th>\n",
       "      <th>MAE_Value</th>\n",
       "      <th>MAE_Uncertainty</th>\n",
       "      <th>Model_R2_Value</th>\n",
       "      <th>R2_Uncertainty</th>\n",
       "      <th>Model_RMSE</th>\n",
       "    </tr>\n",
       "  </thead>\n",
       "  <tbody>\n",
       "    <tr>\n",
       "      <th>0</th>\n",
       "      <td>Linear_Reg</td>\n",
       "      <td>5.412</td>\n",
       "      <td>0.118</td>\n",
       "      <td>0.778</td>\n",
       "      <td>0.012</td>\n",
       "      <td>7.078</td>\n",
       "    </tr>\n",
       "    <tr>\n",
       "      <th>1</th>\n",
       "      <td>Elastic_Net</td>\n",
       "      <td>5.413</td>\n",
       "      <td>0.118</td>\n",
       "      <td>0.778</td>\n",
       "      <td>0.012</td>\n",
       "      <td>7.078</td>\n",
       "    </tr>\n",
       "    <tr>\n",
       "      <th>2</th>\n",
       "      <td>Descision_Tree</td>\n",
       "      <td>1.851</td>\n",
       "      <td>0.028</td>\n",
       "      <td>0.972</td>\n",
       "      <td>0.001</td>\n",
       "      <td>2.514</td>\n",
       "    </tr>\n",
       "    <tr>\n",
       "      <th>3</th>\n",
       "      <td>Gradient_Boost_Reg</td>\n",
       "      <td>1.206</td>\n",
       "      <td>0.022</td>\n",
       "      <td>0.989</td>\n",
       "      <td>0.001</td>\n",
       "      <td>1.546</td>\n",
       "    </tr>\n",
       "    <tr>\n",
       "      <th>4</th>\n",
       "      <td>Random_Forest</td>\n",
       "      <td>1.336</td>\n",
       "      <td>0.018</td>\n",
       "      <td>0.986</td>\n",
       "      <td>0.001</td>\n",
       "      <td>1.790</td>\n",
       "    </tr>\n",
       "  </tbody>\n",
       "</table>\n",
       "</div>"
      ],
      "text/plain": [
       "           Model_Name  MAE_Value  MAE_Uncertainty  Model_R2_Value  \\\n",
       "0          Linear_Reg      5.412            0.118           0.778   \n",
       "1         Elastic_Net      5.413            0.118           0.778   \n",
       "2      Descision_Tree      1.851            0.028           0.972   \n",
       "3  Gradient_Boost_Reg      1.206            0.022           0.989   \n",
       "4       Random_Forest      1.336            0.018           0.986   \n",
       "\n",
       "   R2_Uncertainty  Model_RMSE  \n",
       "0           0.012       7.078  \n",
       "1           0.012       7.078  \n",
       "2           0.001       2.514  \n",
       "3           0.001       1.546  \n",
       "4           0.001       1.790  "
      ]
     },
     "execution_count": 14,
     "metadata": {},
     "output_type": "execute_result"
    }
   ],
   "source": [
    "# Setting all measures in a single data frame for comparing different models to choose best model for this study based on selected dataset.\n",
    "\n",
    "Model_Performances = pd.concat([pd.DataFrame(Model_Name).reset_index(drop=True), pd.DataFrame(MAE_Output).reset_index(drop=True),\n",
    "                                pd.DataFrame(MAE_Uncertainty).reset_index(drop=True), pd.DataFrame(R2_Output).reset_index(drop=True),\n",
    "                                pd.DataFrame(R2_Uncertainty).reset_index(drop=True), pd.DataFrame(RMSE_Output).reset_index(drop=True)], axis = 1)\n",
    "Model_Performances = Model_Performances.set_axis(['Model_Name','MAE_Value','MAE_Uncertainty', 'Model_R2_Value','R2_Uncertainty','Model_RMSE'], axis = 1, inplace = False)\n",
    "Model_Performances"
   ]
  },
  {
   "cell_type": "markdown",
   "metadata": {},
   "source": [
    "# Train Best Model & Test on Hold Out"
   ]
  },
  {
   "cell_type": "markdown",
   "metadata": {},
   "source": [
    "The final model is selected based on the best R Squared and low MAE observed in above 90% train data cross validation.\n",
    "\n",
    "Based on this criteria, I selected Gradient Boosted Regressor. Once GBR is selected, the whole 90% train data goes through the pipeline (scaling, feature selection & parameter search) and then the trained model is tested on 10% hold out data."
   ]
  },
  {
   "cell_type": "code",
   "execution_count": 15,
   "metadata": {},
   "outputs": [
    {
     "name": "stdout",
     "output_type": "stream",
     "text": [
      "Test data MAE & R2 1.186 0.991\n"
     ]
    }
   ],
   "source": [
    "# Selecting Best Model based on low root mean square error and R2 closer to one, Gradient Boosting Regressor does better compared to all other models in on this selected dataset\n",
    "\n",
    "# Training best model on whole dataset (Without the four players) and testing the trained model on four players.\n",
    "Best_Model_Training = GBR_Pipeline.fit(Model_Data_X_Train,Model_Data_Y_Train)\n",
    "Best_Model_Predictions = Best_Model_Training.predict(Model_Data_X_Test)\n",
    "\n",
    "#Performance metrics for 10% holdout data\n",
    "R2_Test_Output = r2_score(Model_Data_Y_Test,Best_Model_Predictions).round(3)\n",
    "MAE_Test_Output = mean_absolute_error(Model_Data_Y_Test,Best_Model_Predictions).round(3)\n",
    "print('Test data MAE & R2', MAE_Test_Output,R2_Test_Output)"
   ]
  },
  {
   "cell_type": "markdown",
   "metadata": {},
   "source": [
    "# Feature Importances for Final Model"
   ]
  },
  {
   "cell_type": "markdown",
   "metadata": {},
   "source": [
    "A final model is created by fitting GBR training pipeline on whole data. This can be treated as a production model. The feature importances for this model are extracted for analysis."
   ]
  },
  {
   "cell_type": "code",
   "execution_count": 16,
   "metadata": {},
   "outputs": [
    {
     "data": {
      "text/html": [
       "<div>\n",
       "<style scoped>\n",
       "    .dataframe tbody tr th:only-of-type {\n",
       "        vertical-align: middle;\n",
       "    }\n",
       "\n",
       "    .dataframe tbody tr th {\n",
       "        vertical-align: top;\n",
       "    }\n",
       "\n",
       "    .dataframe thead th {\n",
       "        text-align: right;\n",
       "    }\n",
       "</style>\n",
       "<table border=\"1\" class=\"dataframe\">\n",
       "  <thead>\n",
       "    <tr style=\"text-align: right;\">\n",
       "      <th></th>\n",
       "      <th>Importance</th>\n",
       "    </tr>\n",
       "  </thead>\n",
       "  <tbody>\n",
       "    <tr>\n",
       "      <th>var_2</th>\n",
       "      <td>0.399</td>\n",
       "    </tr>\n",
       "    <tr>\n",
       "      <th>var_3</th>\n",
       "      <td>0.382</td>\n",
       "    </tr>\n",
       "    <tr>\n",
       "      <th>var_9</th>\n",
       "      <td>0.200</td>\n",
       "    </tr>\n",
       "    <tr>\n",
       "      <th>var_10_4</th>\n",
       "      <td>0.020</td>\n",
       "    </tr>\n",
       "  </tbody>\n",
       "</table>\n",
       "</div>"
      ],
      "text/plain": [
       "          Importance\n",
       "var_2          0.399\n",
       "var_3          0.382\n",
       "var_9          0.200\n",
       "var_10_4       0.020"
      ]
     },
     "execution_count": 16,
     "metadata": {},
     "output_type": "execute_result"
    }
   ],
   "source": [
    "Final_Model = GBR_Pipeline.fit(Model_Data_X.loc[:, Model_Data_X.columns != 'var_5'],Model_Data_Y)\n",
    "# Extract Boolean feature names selected in feature selection\n",
    "features = pd.DataFrame(Final_Model.named_steps['GBR_feature_selection'].get_support(), index = Columns_Data_X, columns = ['Selected_Column'])\n",
    "# Column names extraction for selected features in feature selection part of pipeline\n",
    "Selected_Features = features.loc[features['Selected_Column'] == True]\n",
    "# Feature importances\n",
    "Feature_Importances = pd.DataFrame(Final_Model.named_steps[\"GBR_Regression\"].best_estimator_.feature_importances_, index = Selected_Features.index, columns = ['Importance']).round(3)\n",
    "Feature_Importances"
   ]
  },
  {
   "cell_type": "code",
   "execution_count": null,
   "metadata": {},
   "outputs": [],
   "source": []
  }
 ],
 "metadata": {
  "kernelspec": {
   "display_name": "Python 3",
   "language": "python",
   "name": "python3"
  },
  "language_info": {
   "codemirror_mode": {
    "name": "ipython",
    "version": 3
   },
   "file_extension": ".py",
   "mimetype": "text/x-python",
   "name": "python",
   "nbconvert_exporter": "python",
   "pygments_lexer": "ipython3",
   "version": "3.5.6"
  }
 },
 "nbformat": 4,
 "nbformat_minor": 4
}
